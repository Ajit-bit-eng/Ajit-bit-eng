{
  "nbformat": 4,
  "nbformat_minor": 0,
  "metadata": {
    "colab": {
      "provenance": [],
      "authorship_tag": "ABX9TyOi07mnvcy7pX7vT8QWu8VX",
      "include_colab_link": true
    },
    "kernelspec": {
      "name": "python3",
      "display_name": "Python 3"
    },
    "language_info": {
      "name": "python"
    }
  },
  "cells": [
    {
      "cell_type": "markdown",
      "metadata": {
        "id": "view-in-github",
        "colab_type": "text"
      },
      "source": [
        "<a href=\"https://colab.research.google.com/github/Ajit-bit-eng/Python_Practical_Assignments.ipynb/blob/main/files_%26_exceptional_handling_Practical_assignment.ipynb\" target=\"_parent\"><img src=\"https://colab.research.google.com/assets/colab-badge.svg\" alt=\"Open In Colab\"/></a>"
      ]
    },
    {
      "cell_type": "markdown",
      "source": [
        "4] Write a Python program using multithreading where one thread adds numbers to a list, and another\n",
        "thread removes numbers from the list. Implement a mechanism to avoid race conditions using\n",
        "threading.Lock."
      ],
      "metadata": {
        "id": "q37c1Bj4P6KM"
      }
    },
    {
      "cell_type": "code",
      "source": [
        "import threading\n",
        "import time\n",
        "import random\n",
        "\n",
        "# Shared resource (the list)\n",
        "numbers = []\n",
        "\n",
        "# Lock object to prevent race conditions\n",
        "lock = threading.Lock()\n",
        "\n",
        "# Function for adding numbers to the list\n",
        "def add_numbers():\n",
        "    while True:\n",
        "        lock.acquire()  # Lock the resource\n",
        "        if len(numbers) < 10:  # Add only if there are less than 10 items in the list\n",
        "            num = random.randint(1, 100)\n",
        "            numbers.append(num)\n",
        "            print(f\"Added: {num}, List: {numbers}\")\n",
        "        lock.release()  # Release the lock\n",
        "        time.sleep(random.uniform(0.1, 1))  # Sleep for a random amount of time\n",
        "\n",
        "# Function for removing numbers from the list\n",
        "def remove_numbers():\n",
        "    while True:\n",
        "        lock.acquire()  # Lock the resource\n",
        "        if numbers:  # Remove only if the list is not empty\n",
        "            num = numbers.pop(0)\n",
        "            print(f\"Removed: {num}, List: {numbers}\")\n",
        "        lock.release()  # Release the lock\n",
        "        time.sleep(random.uniform(0.1, 1))  # Sleep for a random amount of time\n",
        "\n",
        "# Create threads\n",
        "adder_thread = threading.Thread(target=add_numbers)\n",
        "remover_thread = threading.Thread(target=remove_numbers)\n",
        "\n",
        "# Start the threads\n",
        "adder_thread.start()\n",
        "remover_thread.start()\n",
        "\n",
        "# Join the threads (optional if you want to wait for them)\n",
        "adder_thread.join()\n",
        "remover_thread.join()\n"
      ],
      "metadata": {
        "id": "-F89Ax77Qc_a"
      },
      "execution_count": null,
      "outputs": []
    },
    {
      "cell_type": "markdown",
      "source": [
        "Explanation:\n",
        "\n",
        "Shared list (numbers): This is the shared resource that both threads will access.\n",
        "\n",
        "Lock (lock): The lock ensures that only one thread can modify the list at a time, preventing race conditions.\n",
        "\n",
        "add_numbers thread: This thread adds random numbers to the list, but only if there are fewer than 10 items.\n",
        "\n",
        "remove_numbers thread: This thread removes numbers from the list, but only if the list has elements.\n",
        "\n",
        "Thread synchronization: The lock.acquire() method is called before accessing the shared list, and lock.release() is called after the access to release the lock.\n",
        "\n",
        "Both threads run indefinitely, so the list will keep growing and shrinking as the two threads operate."
      ],
      "metadata": {
        "id": "gxju_lnWQ2E9"
      }
    },
    {
      "cell_type": "markdown",
      "source": [
        "7] Create a program that uses a thread pool to calculate the factorial of numbers from 1 to 10 concurrently.\n",
        "Use concurrent.futures.ThreadPoolExecutor to manage the threads."
      ],
      "metadata": {
        "id": "Yl3pi8MjQh0T"
      }
    },
    {
      "cell_type": "code",
      "source": [
        "import concurrent.futures\n",
        "import math\n",
        "\n",
        "# Function to calculate factorial of a number\n",
        "def calculate_factorial(n):\n",
        "    result = math.factorial(n)\n",
        "    print(f\"Factorial of {n} is {result}\")\n",
        "    return result\n",
        "\n",
        "# Main function\n",
        "def main():\n",
        "    numbers = range(1, 11)  # Numbers from 1 to 10\n",
        "\n",
        "    # Using ThreadPoolExecutor to manage threads\n",
        "    with concurrent.futures.ThreadPoolExecutor() as executor:\n",
        "        # Submitting tasks to the executor\n",
        "        results = executor.map(calculate_factorial, numbers)\n",
        "\n",
        "    # Optional: If you want to collect and print results (though they are printed inside the thread function)\n",
        "    for number, result in zip(numbers, results):\n",
        "        print(f\"Result collected: {number}! = {result}\")\n",
        "\n",
        "# Run the program\n",
        "if __name__ == \"__main__\":\n",
        "    main()\n"
      ],
      "metadata": {
        "colab": {
          "base_uri": "https://localhost:8080/"
        },
        "id": "e2jOSUFgRAzq",
        "outputId": "24d57153-b790-4093-dc61-4b23a68d3efd"
      },
      "execution_count": 2,
      "outputs": [
        {
          "output_type": "stream",
          "name": "stdout",
          "text": [
            "Factorial of 1 is 1\n",
            "Factorial of 2 is 2\n",
            "Factorial of 3 is 6\n",
            "Factorial of 4 is 24\n",
            "Factorial of 5 is 120\n",
            "Factorial of 6 is 720\n",
            "Factorial of 7 is 5040\n",
            "Factorial of 8 is 40320\n",
            "Factorial of 9 is 362880\n",
            "Factorial of 10 is 3628800\n",
            "Result collected: 1! = 1\n",
            "Result collected: 2! = 2\n",
            "Result collected: 3! = 6\n",
            "Result collected: 4! = 24\n",
            "Result collected: 5! = 120\n",
            "Result collected: 6! = 720\n",
            "Result collected: 7! = 5040\n",
            "Result collected: 8! = 40320\n",
            "Result collected: 9! = 362880\n",
            "Result collected: 10! = 3628800\n",
            "Added: 53, List: [93, 39, 38, 4, 59, 43, 7, 40, 85, 53]\n"
          ]
        }
      ]
    },
    {
      "cell_type": "markdown",
      "source": [
        "Explanation:\n",
        "\n",
        "calculate_factorial(n): This function computes the factorial of a given number and prints the result.\n",
        "\n",
        "ThreadPoolExecutor: This is used to manage a pool of threads. It automatically handles the lifecycle of threads, allowing tasks to be run concurrently.\n",
        "\n",
        "executor.map(): This function maps the calculate_factorial function to each number in the range 1 to 10. The mapping ensures that all tasks are executed concurrently by the thread pool.\n",
        "\n",
        "Thread pool size: By default, ThreadPoolExecutor automatically decides the number of threads based on the system’s resources. You can explicitly set the pool size by passing the max_workers argument.\n",
        "\n",
        "The output will show the factorial of numbers from 1 to 10, calculated concurrently by different threads in the pool."
      ],
      "metadata": {
        "id": "f1ECZez0RG-M"
      }
    },
    {
      "cell_type": "markdown",
      "source": [
        "8] Create a Python program that uses multiprocessing.Pool to compute the square of numbers from 1 to 10 in\n",
        "parallel. Measure the time taken to perform this computation using a pool of different sizes (e.g., 2, 4, 8\n",
        "processes)."
      ],
      "metadata": {
        "id": "XzxSmdkJRTjO"
      }
    },
    {
      "cell_type": "code",
      "source": [
        "import multiprocessing\n",
        "import time\n",
        "\n",
        "# Function to compute the square of a number\n",
        "def compute_square(n):\n",
        "    return n * n\n",
        "\n",
        "# Function to measure time taken for a given pool size\n",
        "def measure_pool_time(pool_size, numbers):\n",
        "    with multiprocessing.Pool(pool_size) as pool:\n",
        "        start_time = time.time()  # Start time\n",
        "        results = pool.map(compute_square, numbers)  # Perform the computation in parallel\n",
        "        end_time = time.time()  # End time\n",
        "\n",
        "    # Calculate and print the time taken\n",
        "    time_taken = end_time - start_time\n",
        "    print(f\"Pool size: {pool_size}, Time taken: {time_taken:.4f} seconds\")\n",
        "    print(f\"Results: {results}\\n\")\n",
        "\n",
        "# Main function\n",
        "def main():\n",
        "    numbers = range(1, 11)  # Numbers from 1 to 10\n",
        "\n",
        "    # Measure time for different pool sizes\n",
        "    for pool_size in [2, 4, 8]:\n",
        "        measure_pool_time(pool_size, numbers)\n",
        "\n",
        "# Run the program\n",
        "if __name__ == \"__main__\":\n",
        "    main()\n"
      ],
      "metadata": {
        "colab": {
          "base_uri": "https://localhost:8080/"
        },
        "id": "ZI4krJalRV9O",
        "outputId": "569acca0-8f9d-4490-ba8d-5fbf86168173"
      },
      "execution_count": 3,
      "outputs": [
        {
          "output_type": "stream",
          "name": "stdout",
          "text": [
            "Removed: 98, List: [76, 49, 98, 60, 16, 16, 80, 35]\n",
            "Added: 48, List: [76, 49, 98, 60, 16, 16, 80, 35, 48]\n",
            "Pool size: 2, Time taken: 0.0051 seconds\n",
            "Results: [1, 4, 9, 16, 25, 36, 49, 64, 81, 100]\n",
            "\n",
            "Pool size: 4, Time taken: 0.0026 seconds\n",
            "Results: [1, 4, 9, 16, 25, 36, 49, 64, 81, 100]\n",
            "\n",
            "Added: 87, List: [76, 49, 98, 60, 16, 16, 80, 35, 48, 87]\n",
            "Pool size: 8, Time taken: 0.0031 seconds\n",
            "Results: [1, 4, 9, 16, 25, 36, 49, 64, 81, 100]\n",
            "\n",
            "Removed: 76, List: [49, 98, 60, 16, 16, 80, 35, 48, 87]\n"
          ]
        }
      ]
    },
    {
      "cell_type": "markdown",
      "source": [
        "Explanation:\n",
        "\n",
        "compute_square(n): This function computes the square of a number.\n",
        "multiprocessing.Pool: This is used to create a pool of worker processes that run in parallel. The size of the pool can be controlled to change the number of processes that run concurrently.\n",
        "\n",
        "pool.map(): This function maps the compute_square function over the range of numbers (1 to 10), distributing the tasks across the processes in the pool.\n",
        "measure_pool_time(): This function measures the time taken to compute the squares using a pool of a given size. It prints the time taken and the results of the computation.\n",
        "\n",
        "Timing: The time.time() function is used to measure the start and end times of the computation.\n",
        "\n",
        "The program tests pool sizes of 2, 4, and 8 processes, and prints the time taken for each pool size along with the results of the square computation. You can observe how the time changes with different pool sizes."
      ],
      "metadata": {
        "id": "jXsCna4eRZ20"
      }
    }
  ]
}